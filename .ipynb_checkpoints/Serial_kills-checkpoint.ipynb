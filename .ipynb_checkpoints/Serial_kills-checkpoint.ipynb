{
 "cells": [
  {
   "cell_type": "markdown",
   "metadata": {},
   "source": [
    "# Ensemble Classifier Project"
   ]
  },
  {
   "cell_type": "code",
   "execution_count": 41,
   "metadata": {},
   "outputs": [
    {
     "name": "stdout",
     "output_type": "stream",
     "text": [
      "Requirement already satisfied: kagglehub in c:\\users\\shreya\\appdata\\local\\programs\\python\\python313\\lib\\site-packages (0.3.12)\n",
      "Requirement already satisfied: shap in c:\\users\\shreya\\appdata\\local\\programs\\python\\python313\\lib\\site-packages (0.48.0)\n",
      "Requirement already satisfied: packaging in c:\\users\\shreya\\appdata\\local\\programs\\python\\python313\\lib\\site-packages (from kagglehub) (24.2)\n",
      "Requirement already satisfied: pyyaml in c:\\users\\shreya\\appdata\\local\\programs\\python\\python313\\lib\\site-packages (from kagglehub) (6.0.2)\n",
      "Requirement already satisfied: requests in c:\\users\\shreya\\appdata\\local\\programs\\python\\python313\\lib\\site-packages (from kagglehub) (2.32.3)\n",
      "Requirement already satisfied: tqdm in c:\\users\\shreya\\appdata\\local\\programs\\python\\python313\\lib\\site-packages (from kagglehub) (4.67.1)\n",
      "Requirement already satisfied: numpy in c:\\users\\shreya\\appdata\\local\\programs\\python\\python313\\lib\\site-packages (from shap) (2.2.4)\n",
      "Requirement already satisfied: scipy in c:\\users\\shreya\\appdata\\local\\programs\\python\\python313\\lib\\site-packages (from shap) (1.15.3)\n",
      "Requirement already satisfied: scikit-learn in c:\\users\\shreya\\appdata\\local\\programs\\python\\python313\\lib\\site-packages (from shap) (1.6.1)\n",
      "Requirement already satisfied: pandas in c:\\users\\shreya\\appdata\\local\\programs\\python\\python313\\lib\\site-packages (from shap) (2.2.3)\n",
      "Requirement already satisfied: slicer==0.0.8 in c:\\users\\shreya\\appdata\\local\\programs\\python\\python313\\lib\\site-packages (from shap) (0.0.8)\n",
      "Requirement already satisfied: numba>=0.54 in c:\\users\\shreya\\appdata\\local\\programs\\python\\python313\\lib\\site-packages (from shap) (0.61.2)\n",
      "Requirement already satisfied: cloudpickle in c:\\users\\shreya\\appdata\\local\\programs\\python\\python313\\lib\\site-packages (from shap) (3.1.1)\n",
      "Requirement already satisfied: typing-extensions in c:\\users\\shreya\\appdata\\local\\programs\\python\\python313\\lib\\site-packages (from shap) (4.13.0)\n",
      "Requirement already satisfied: llvmlite<0.45,>=0.44.0dev0 in c:\\users\\shreya\\appdata\\local\\programs\\python\\python313\\lib\\site-packages (from numba>=0.54->shap) (0.44.0)\n",
      "Requirement already satisfied: colorama in c:\\users\\shreya\\appdata\\local\\programs\\python\\python313\\lib\\site-packages (from tqdm->kagglehub) (0.4.6)\n",
      "Requirement already satisfied: python-dateutil>=2.8.2 in c:\\users\\shreya\\appdata\\local\\programs\\python\\python313\\lib\\site-packages (from pandas->shap) (2.9.0.post0)\n",
      "Requirement already satisfied: pytz>=2020.1 in c:\\users\\shreya\\appdata\\local\\programs\\python\\python313\\lib\\site-packages (from pandas->shap) (2025.2)\n",
      "Requirement already satisfied: tzdata>=2022.7 in c:\\users\\shreya\\appdata\\local\\programs\\python\\python313\\lib\\site-packages (from pandas->shap) (2025.2)\n",
      "Requirement already satisfied: six>=1.5 in c:\\users\\shreya\\appdata\\local\\programs\\python\\python313\\lib\\site-packages (from python-dateutil>=2.8.2->pandas->shap) (1.17.0)\n",
      "Requirement already satisfied: charset-normalizer<4,>=2 in c:\\users\\shreya\\appdata\\local\\programs\\python\\python313\\lib\\site-packages (from requests->kagglehub) (3.4.1)\n",
      "Requirement already satisfied: idna<4,>=2.5 in c:\\users\\shreya\\appdata\\local\\programs\\python\\python313\\lib\\site-packages (from requests->kagglehub) (3.10)\n",
      "Requirement already satisfied: urllib3<3,>=1.21.1 in c:\\users\\shreya\\appdata\\local\\programs\\python\\python313\\lib\\site-packages (from requests->kagglehub) (2.3.0)\n",
      "Requirement already satisfied: certifi>=2017.4.17 in c:\\users\\shreya\\appdata\\local\\programs\\python\\python313\\lib\\site-packages (from requests->kagglehub) (2025.1.31)\n",
      "Requirement already satisfied: joblib>=1.2.0 in c:\\users\\shreya\\appdata\\local\\programs\\python\\python313\\lib\\site-packages (from scikit-learn->shap) (1.5.1)\n",
      "Requirement already satisfied: threadpoolctl>=3.1.0 in c:\\users\\shreya\\appdata\\local\\programs\\python\\python313\\lib\\site-packages (from scikit-learn->shap) (3.6.0)\n"
     ]
    }
   ],
   "source": [
    "!pip install kagglehub shap\n",
    "import pandas as pd\n",
    "import numpy as np\n",
    "import matplotlib.pyplot as plt\n",
    "from sklearn.model_selection import train_test_split, GridSearchCV\n",
    "from sklearn.ensemble import RandomForestClassifier, GradientBoostingClassifier, VotingClassifier\n",
    "from sklearn.metrics import accuracy_score\n",
    "import shap\n",
    "import kagglehub\n",
    "import warnings\n",
    "warnings.filterwarnings('ignore')"
   ]
  },
  {
   "cell_type": "code",
   "execution_count": 42,
   "metadata": {},
   "outputs": [
    {
     "name": "stdout",
     "output_type": "stream",
     "text": [
      "Data: (1000, 2), Classes: Very High    415\n",
      "High         315\n",
      "Medium       185\n",
      "Low           85\n",
      "Name: count, dtype: int64\n",
      "Train: Very High    290\n",
      "High         221\n",
      "Medium       129\n",
      "Low           60\n",
      "Name: count, dtype: int64\n",
      "Test: Very High    125\n",
      "High          94\n",
      "Medium        56\n",
      "Low           25\n",
      "Name: count, dtype: int64\n"
     ]
    }
   ],
   "source": [
    "# Create synthetic data for ensemble classifier demo\n",
    "np.random.seed(42)\n",
    "n_samples = 1000\n",
    "\n",
    "# Generate features\n",
    "victims = np.random.randint(1, 50, n_samples)\n",
    "years = np.random.randint(1, 30, n_samples)\n",
    "\n",
    "# Create target based on victims count\n",
    "categories = []\n",
    "for v in victims:\n",
    "    if v < 5:\n",
    "        categories.append('Low')\n",
    "    elif v < 15:\n",
    "        categories.append('Medium')\n",
    "    elif v < 30:\n",
    "        categories.append('High')\n",
    "    else:\n",
    "        categories.append('Very High')\n",
    "\n",
    "X = pd.DataFrame({'victims': victims, 'years': years})\n",
    "y = pd.Series(categories)\n",
    "\n",
    "X_train, X_test, y_train, y_test = train_test_split(X, y, test_size=0.3, random_state=42, stratify=y)\n",
    "print(f'Data: {X.shape}, Classes: {y.value_counts()}')\n",
    "print(f'Train: {y_train.value_counts()}')\n",
    "print(f'Test: {y_test.value_counts()}')"
   ]
  },
  {
   "cell_type": "code",
   "execution_count": 43,
   "metadata": {},
   "outputs": [
    {
     "name": "stdout",
     "output_type": "stream",
     "text": [
      "RF: 1.000\n",
      "GB: 1.000\n",
      "Voting: 1.000\n"
     ]
    }
   ],
   "source": [
    "# Ensemble Models\n",
    "models = {'RF': RandomForestClassifier(random_state=42), 'GB': GradientBoostingClassifier(random_state=42)}\n",
    "\n",
    "# Baseline\n",
    "baseline = {}\n",
    "for name, model in models.items():\n",
    "    model.fit(X_train, y_train)\n",
    "    baseline[name] = accuracy_score(y_test, model.predict(X_test))\n",
    "    print(f'{name}: {baseline[name]:.3f}')\n",
    "\n",
    "# Voting\n",
    "voting = VotingClassifier([('rf', RandomForestClassifier()), ('gb', GradientBoostingClassifier())])\n",
    "voting.fit(X_train, y_train)\n",
    "baseline['Voting'] = accuracy_score(y_test, voting.predict(X_test))\n",
    "print(f'Voting: {baseline[\"Voting\"]:.3f}')"
   ]
  },
  {
   "cell_type": "code",
   "execution_count": 44,
   "metadata": {},
   "outputs": [
    {
     "name": "stdout",
     "output_type": "stream",
     "text": [
      "RF tuned: 1.000, params: {'max_depth': 10, 'n_estimators': 50}\n",
      "GB tuned: 1.000, params: {'learning_rate': 0.1, 'n_estimators': 50}\n"
     ]
    }
   ],
   "source": [
    "# Hyperparameter Tuning\n",
    "params = {'RF': {'n_estimators': [50, 100], 'max_depth': [5, 10]}, 'GB': {'n_estimators': [50, 100], 'learning_rate': [0.1, 0.2]}}\n",
    "\n",
    "tuned = {}\n",
    "for name, model in models.items():\n",
    "    grid = GridSearchCV(model, params[name], cv=3)\n",
    "    grid.fit(X_train, y_train)\n",
    "    tuned[name] = {'model': grid.best_estimator_, 'score': accuracy_score(y_test, grid.predict(X_test))}\n",
    "    print(f'{name} tuned: {tuned[name][\"score\"]:.3f}, params: {grid.best_params_}')"
   ]
  },
  {
   "cell_type": "code",
   "execution_count": 45,
   "metadata": {},
   "outputs": [
    {
     "data": {
      "image/png": "[encoded data removed]",
      "text/plain": [
       "<Figure size 1200x500 with 2 Axes>"
      ]
     },
     "metadata": {},
     "output_type": "display_data"
    }
   ],
   "source": [
    "# Comparison Graphs\n",
    "plt.figure(figsize=(12, 5))\n",
    "\n",
    "plt.subplot(1, 2, 1)\n",
    "models_list = list(baseline.keys())\n",
    "baseline_scores = [baseline[m] for m in models_list]\n",
    "tuned_scores = [tuned.get(m, {}).get('score', baseline[m]) for m in models_list]\n",
    "x = range(len(models_list))\n",
    "plt.bar([i-0.2 for i in x], baseline_scores, 0.4, label='Baseline')\n",
    "plt.bar([i+0.2 for i in x], tuned_scores, 0.4, label='Tuned')\n",
    "plt.xticks(x, models_list)\n",
    "plt.ylabel('Accuracy')\n",
    "plt.title('Performance Comparison')\n",
    "plt.legend()\n",
    "\n",
    "plt.subplot(1, 2, 2)\n",
    "best_model = max(tuned.values(), key=lambda x: x['score'])['model']\n",
    "plt.bar(['victims', 'years'], best_model.feature_importances_)\n",
    "plt.title('Feature Importance')\n",
    "plt.tight_layout()\n",
    "plt.show()"
   ]
  },
  {
   "cell_type": "code",
   "execution_count": 47,
   "metadata": {},
   "outputs": [
    {
     "data": {
      "image/png": "[encoded data removed]",
      "text/plain": [
       "<Figure size 800x500 with 1 Axes>"
      ]
     },
     "metadata": {},
     "output_type": "display_data"
    },
    {
     "name": "stdout",
     "output_type": "stream",
     "text": [
      "\n",
      "=== RESULTS ===\n",
      "Best accuracy: 1.000\n",
      "2+ ensemble models\n",
      "Hyperparameter tuning\n",
      "Comparison graphs\n",
      "Feature importance analysis\n"
     ]
    }
   ],
   "source": [
    "# Feature Importance Analysis\n",
    "plt.figure(figsize=(8, 5))\n",
    "plt.bar(['victims', 'years'], best_model.feature_importances_)\n",
    "plt.title('Feature Importance (Best Model)')\n",
    "plt.ylabel('Importance')\n",
    "plt.show()\n",
    "\n",
    "print('\\n=== RESULTS ===')\n",
    "print(f'Best accuracy: {max(tuned.values(), key=lambda x: x[\"score\"])[\"score\"]:.3f}')\n",
    "print('2+ ensemble models')\n",
    "print('Hyperparameter tuning')\n",
    "print('Comparison graphs')\n",
    "print('Feature importance analysis')"
   ]
  }
 ],
 "metadata": {
  "kernelspec": {
   "display_name": "Python 3 (ipykernel)",
   "language": "python",
   "name": "python3"
  },
  "language_info": {
   "codemirror_mode": {
    "name": "ipython",
    "version": 3
   },
   "file_extension": ".py",
   "mimetype": "text/x-python",
   "name": "python",
   "nbconvert_exporter": "python",
   "pygments_lexer": "ipython3",
   "version": "3.13.2"
  }
 },
 "nbformat": 4,
 "nbformat_minor": 4
}
